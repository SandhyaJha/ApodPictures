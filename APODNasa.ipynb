{
 "cells": [
  {
   "cell_type": "code",
   "execution_count": null,
   "metadata": {},
   "outputs": [],
   "source": [
    "import os\n",
    "import urllib\n",
    "from bs4 import BeautifulSoup\n",
    "base_url = \"https://apod.nasa.gov/apod/archivepix.html\"\n",
    "download_directory = \"ApodPictures\"\n",
    "content = urllib.request.urlopen(base_url).read()\n",
    "\n",
    "for link in BeautifulSoup(content, \"lxml\").findAll(\"a\"):\n",
    "    print(\"following link :\", link)\n",
    "    href = urllib.parse.urljoin(base_url, link[\"href\"])\n",
    "    content = urllib.request.urlopen(href).read()\n",
    "    for img in BeautifulSoup(content, \"lxml\").findAll(\"img\"):\n",
    "        img_href = urllib.request.urljoin(href, img[\"src\"])\n",
    "        print(\"Downloading image :\", img_href)\n",
    "        img_name = img_href.split(\"/\")[-1]\n",
    "        urllib.request.urlretrieve(img_href, os.path.join(download_directory, img_name))"
   ]
  }
 ],
 "metadata": {
  "kernelspec": {
   "display_name": "Python 3",
   "language": "python",
   "name": "python3"
  },
  "language_info": {
   "codemirror_mode": {
    "name": "ipython",
    "version": 3
   },
   "file_extension": ".py",
   "mimetype": "text/x-python",
   "name": "python",
   "nbconvert_exporter": "python",
   "pygments_lexer": "ipython3",
   "version": "3.6.4"
  }
 },
 "nbformat": 4,
 "nbformat_minor": 2
}
